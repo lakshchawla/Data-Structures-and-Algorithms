{
 "metadata": {
  "language_info": {
   "codemirror_mode": {
    "name": "ipython",
    "version": 3
   },
   "file_extension": ".py",
   "mimetype": "text/x-python",
   "name": "python",
   "nbconvert_exporter": "python",
   "pygments_lexer": "ipython3",
   "version": "3.9.1"
  },
  "orig_nbformat": 4,
  "kernelspec": {
   "name": "python3",
   "display_name": "Python 3.9.1 64-bit"
  },
  "interpreter": {
   "hash": "c569cd2e17f62341e0f08a54f9a867c3c0d3a6f67454072d7de41a8b5dff8343"
  }
 },
 "nbformat": 4,
 "nbformat_minor": 2,
 "cells": [
  {
   "cell_type": "code",
   "execution_count": 2,
   "metadata": {},
   "outputs": [
    {
     "output_type": "stream",
     "name": "stdout",
     "text": [
      ".vscode\nfile.txt\nprgm2.py\nprgm3.py\nrough.py\nUntitled-1.ipynb\n"
     ]
    }
   ],
   "source": [
    "dirFiles = os.listdir()\n",
    "\n",
    "for i in dirFiles:\n",
    "    print(i)"
   ]
  },
  {
   "cell_type": "code",
   "execution_count": 3,
   "metadata": {},
   "outputs": [],
   "source": [
    "mystring = \"file.txt\""
   ]
  },
  {
   "cell_type": "code",
   "execution_count": 5,
   "metadata": {},
   "outputs": [
    {
     "output_type": "execute_result",
     "data": {
      "text/plain": [
       "'x'"
      ]
     },
     "metadata": {},
     "execution_count": 5
    }
   ],
   "source": [
    "mystring[-2]"
   ]
  },
  {
   "cell_type": "code",
   "execution_count": 7,
   "metadata": {},
   "outputs": [
    {
     "output_type": "stream",
     "name": "stdout",
     "text": [
      "true\n"
     ]
    }
   ],
   "source": [
    "if(mystring[-4] == \".\" and mystring[-3] == \"t\" and mystring[-2] == \"x\" and mystring[-1] == \"t\"):\n",
    "    print(\"true\")"
   ]
  },
  {
   "cell_type": "code",
   "execution_count": 10,
   "metadata": {},
   "outputs": [],
   "source": [
    "dirFiles = os.listdir()"
   ]
  },
  {
   "cell_type": "code",
   "execution_count": 12,
   "metadata": {},
   "outputs": [],
   "source": [
    "for i in dirFiles:\n",
    "    FileName = str(i)\n",
    "\n",
    "    if(FileName[-4] == \".\" and FileName[-3] == \"t\" and FileName[-2] == \"x\" and FileName[-1] == \"t\"):\n",
    "        fileOpen = open(FileName, \"r\")\n",
    "        stringExt = str(fileOpen.read())\n",
    "        fileOpen.close()\n",
    "\n",
    "        writeToFile = open(FileName, \"w\")\n",
    "        writeToFile.write(stringExt.upper())\n",
    "    \n",
    "    else:\n",
    "        continue"
   ]
  },
  {
   "cell_type": "code",
   "execution_count": null,
   "metadata": {},
   "outputs": [],
   "source": [
    "fileName"
   ]
  },
  {
   "cell_type": "code",
   "execution_count": 4,
   "metadata": {},
   "outputs": [
    {
     "output_type": "stream",
     "name": "stdout",
     "text": [
      "['1.txt', '2.txt']\n"
     ]
    }
   ],
   "source": [
    "print(os.listdir(\"txtFilesHere\"))\n",
    "\n"
   ]
  },
  {
   "cell_type": "code",
   "execution_count": null,
   "metadata": {},
   "outputs": [],
   "source": []
  }
 ]
}